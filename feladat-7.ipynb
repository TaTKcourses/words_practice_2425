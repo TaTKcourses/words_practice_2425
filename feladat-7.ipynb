{
 "cells": [
  {
   "cell_type": "markdown",
   "id": "16fda52d",
   "metadata": {},
   "source": [
    "# 7. feladat\n",
    "\n",
    "Függvény, ami argumentumként megadható input szöveges file tartalmára (default: stopwords_hu.txt) megadja, hogy a beadott input szöveges file-ban tapasztalható betűgyakoriságok mely betűkre térnek el minimum 10%-kal a leggyakoribb szavak listájában tapasztalható betűgyakoriságtól (pl ha a leggyakoribb szavak listájában 6,1% az n betűk aránya, és a beadott szöveges file-ban az n betűk aránya kevesebb, mint 5,49% vagy több, mint 6,71%, akkor az outputban legyen benn az n betű), és mi az adott betű gyakorisága a leggyakoribb szavak listájában és az input file-ban. (output: pl szótár) (Kis és nagybetűk különbsége nem számít) "
   ]
  },
  {
   "cell_type": "code",
   "execution_count": 98,
   "id": "4ca679d4",
   "metadata": {},
   "outputs": [],
   "source": [
    "#importálom a szükséges packageket\n",
    "from collections import Counter"
   ]
  },
  {
   "cell_type": "code",
   "execution_count": 100,
   "id": "51822c20",
   "metadata": {},
   "outputs": [],
   "source": [
    "#megadom az elérési utakat a viszonyítási fájlhoz és a vizsgálandó fájlhoz is\n",
    "ref_file_path = \"C:/Users/User/Downloads/stopwords_hu.txt\"\n",
    "input_file_path = \"C:/Users/User/Downloads/proba_szoveg.txt\""
   ]
  },
  {
   "cell_type": "code",
   "execution_count": 102,
   "id": "8948231c",
   "metadata": {},
   "outputs": [],
   "source": [
    "#definiálom a függvény\n",
    "def eltero_betugyakorisagok(input_file_path, ref_file_path=ref_file_path):\n",
    "    ''' \n",
    "    A függvény két txt file betűgyakoriságait hasonlítja össze\n",
    "\n",
    "    Params: \n",
    "    input_file_path: elérési út (vizsgálandó txt)\n",
    "    ref_file_path: elérési út (viszonyítási txt - alap esetben a stopword_hu.txt)\n",
    "\n",
    "    Output: dictionary\n",
    "    Azok a betűk, amik a vizsgált fájlban +/- 10%-al eltérő nagyságrendben vannak jelen a vizsgált fájlban, mint a viszonyítási fájlban, \n",
    "    ezeknek a betűknek a betű gyakoriságai.\n",
    "\n",
    "    '''\n",
    "    #megnyitom a txt filokat és egy istává konvertálom őket\n",
    "    ref_text = open(ref_file_path, \"r\", encoding='utf-8').read().replace('\\n', ' ').split(\".\")\n",
    "    input_text = open(input_file_path, \"r\", encoding='utf-8').read().replace('\\n', ' ').split(\".\")\n",
    "\n",
    "    #kisbetűssé alakítom + egy egybefüggő stringgé alakítom\n",
    "    ref_text = ''.join(ref_text).replace(\" \", \"\").lower()\n",
    "    input_text = ''.join(input_text).replace(\" \", \"\").lower()\n",
    "\n",
    "    #csak a betűket hagyom meg a stringben\n",
    "    ref_text = ''.join(char for char in ref_text if char.isalpha())\n",
    "    input_text = ''.join(char for char in input_text if char.isalpha())\n",
    "\n",
    "    #kilistázom az egyes betűk gyakoriságát\n",
    "    freq_ref = Counter(ref_text)\n",
    "    freq_input = Counter(input_text)\n",
    "\n",
    "    #meghatázom a különbség mértékét\n",
    "    threshold = 0.1\n",
    "\n",
    "    #ebben a dictionaryben gyűjtöm a feltételnek megfelelő betűket\n",
    "    eltérés = {}\n",
    "\n",
    "    #iterációval összehasonlítom a betűk előfordulásának gyakoriságát\n",
    "    for letter in freq_ref:\n",
    "        ref_rate = freq_ref.get(letter, 0)\n",
    "        input_rate = freq_input.get(letter, 0)\n",
    "        lower_bound = ref_rate * (1 - threshold)\n",
    "        upper_bound = ref_rate * (1 + threshold)\n",
    "\n",
    "        #a feltételeknek megfelelőt kimentem + a szükséges adatokat eltárolom a betűkről\n",
    "        if input_rate < lower_bound or input_rate > upper_bound:\n",
    "            eltérés[letter] = {\n",
    "                'ref_gyakoriság': ref_rate,\n",
    "                'input_gyakoriság': input_rate\n",
    "            }\n",
    "\n",
    "    return eltérés\n"
   ]
  },
  {
   "cell_type": "code",
   "execution_count": 104,
   "id": "c2791f21",
   "metadata": {},
   "outputs": [
    {
     "data": {
      "text/plain": [
       "{'a': {'ref_gyakoriság': 89, 'input_gyakoriság': 2},\n",
       " 'b': {'ref_gyakoriság': 30, 'input_gyakoriság': 10},\n",
       " 'n': {'ref_gyakoriság': 79, 'input_gyakoriság': 1},\n",
       " 'h': {'ref_gyakoriság': 18, 'input_gyakoriság': 4},\n",
       " 'o': {'ref_gyakoriság': 43, 'input_gyakoriság': 1},\n",
       " 'z': {'ref_gyakoriság': 35, 'input_gyakoriság': 0},\n",
       " 'g': {'ref_gyakoriság': 32, 'input_gyakoriság': 0},\n",
       " 'y': {'ref_gyakoriság': 34, 'input_gyakoriság': 7},\n",
       " 'l': {'ref_gyakoriság': 83, 'input_gyakoriság': 3},\n",
       " 'k': {'ref_gyakoriság': 57, 'input_gyakoriság': 0},\n",
       " 'i': {'ref_gyakoriság': 56, 'input_gyakoriság': 1},\n",
       " 'r': {'ref_gyakoriság': 27, 'input_gyakoriság': 0},\n",
       " 'á': {'ref_gyakoriság': 28, 'input_gyakoriság': 3},\n",
       " 't': {'ref_gyakoriság': 78, 'input_gyakoriság': 0},\n",
       " 'm': {'ref_gyakoriság': 53, 'input_gyakoriság': 0},\n",
       " 'e': {'ref_gyakoriság': 130, 'input_gyakoriság': 0},\n",
       " 'í': {'ref_gyakoriság': 4, 'input_gyakoriság': 0},\n",
       " 'ó': {'ref_gyakoriság': 5, 'input_gyakoriság': 0},\n",
       " 'u': {'ref_gyakoriság': 7, 'input_gyakoriság': 0},\n",
       " 'é': {'ref_gyakoriság': 17, 'input_gyakoriság': 10},\n",
       " 'ü': {'ref_gyakoriság': 6, 'input_gyakoriság': 0},\n",
       " 'c': {'ref_gyakoriság': 5, 'input_gyakoriság': 6},\n",
       " 's': {'ref_gyakoriság': 41, 'input_gyakoriság': 2},\n",
       " 'd': {'ref_gyakoriság': 13, 'input_gyakoriság': 5},\n",
       " 'ö': {'ref_gyakoriság': 7, 'input_gyakoriság': 0},\n",
       " 'ő': {'ref_gyakoriság': 3, 'input_gyakoriság': 0},\n",
       " 'f': {'ref_gyakoriság': 2, 'input_gyakoriság': 1},\n",
       " 'v': {'ref_gyakoriság': 22, 'input_gyakoriság': 2},\n",
       " 'j': {'ref_gyakoriság': 9, 'input_gyakoriság': 6},\n",
       " 'p': {'ref_gyakoriság': 5, 'input_gyakoriság': 0},\n",
       " 'ú': {'ref_gyakoriság': 5, 'input_gyakoriság': 0}}"
      ]
     },
     "execution_count": 104,
     "metadata": {},
     "output_type": "execute_result"
    }
   ],
   "source": [
    "#meghívom a függvényt\n",
    "eltero_betugyakorisagok(input_file_path=input_file_path, ref_file_path=ref_file_path)"
   ]
  }
 ],
 "metadata": {
  "kernelspec": {
   "display_name": "Python 3 (ipykernel)",
   "language": "python",
   "name": "python3"
  },
  "language_info": {
   "codemirror_mode": {
    "name": "ipython",
    "version": 3
   },
   "file_extension": ".py",
   "mimetype": "text/x-python",
   "name": "python",
   "nbconvert_exporter": "python",
   "pygments_lexer": "ipython3",
   "version": "3.12.4"
  }
 },
 "nbformat": 4,
 "nbformat_minor": 5
}
